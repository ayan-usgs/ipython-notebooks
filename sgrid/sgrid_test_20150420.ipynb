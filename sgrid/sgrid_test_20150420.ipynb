{
 "cells": [
  {
   "cell_type": "code",
   "execution_count": 1,
   "metadata": {
    "collapsed": false
   },
   "outputs": [],
   "source": [
    "from netCDF4 import Dataset\n",
    "from pysgrid import SGrid\n",
    "from pysgrid.processing_2d import avg_to_cell_center, rotate_vectors, vector_sum"
   ]
  },
  {
   "cell_type": "code",
   "execution_count": 2,
   "metadata": {
    "collapsed": true
   },
   "outputs": [],
   "source": [
    "DATASET_URL = 'http://geoport.whoi.edu/thredds/dodsC/coawst_4/use/fmrc/coawst_4_use_best.ncd'"
   ]
  },
  {
   "cell_type": "code",
   "execution_count": 3,
   "metadata": {
    "collapsed": false
   },
   "outputs": [
    {
     "name": "stdout",
     "output_type": "stream",
     "text": [
      "[(u'ocean_time', 12), (u'NST', 6), (u'Nbed', 1), (u'boundary', 4), (u'eta_psi', 335), (u'eta_rho', 336), (u'eta_u', 336), (u'eta_v', 335), (u's_rho', 16), (u's_w', 17), (u'time', 22913), (u'tracer', 8), (u'xi_psi', 895), (u'xi_rho', 896), (u'xi_u', 895), (u'xi_v', 896)]\n"
     ]
    }
   ],
   "source": [
    "# create an SGrid object\n",
    "ds = Dataset(DATASET_URL)\n",
    "sg = SGrid.from_nc_dataset(ds)\n",
    "# get the dimensions of the dataset and their respective sizes\n",
    "dimensions = sg.dimensions\n",
    "print(dimensions)"
   ]
  },
  {
   "cell_type": "code",
   "execution_count": 4,
   "metadata": {
    "collapsed": false
   },
   "outputs": [
    {
     "name": "stdout",
     "output_type": "stream",
     "text": [
      "[u'ntimes', u'ndtfast', u'dt', u'dtfast', u'dstart', u'nHIS', u'ndefHIS', u'nRST', u'Falpha', u'Fbeta', u'Fgamma', u'nl_visc2', u'LuvSponge', u'Akt_bak', u'Akv_bak', u'Akk_bak', u'Akp_bak', u'rdrg', u'rdrg2', u'Zob', u'Zos', u'gls_p', u'gls_m', u'gls_n', u'gls_cmu0', u'gls_c1', u'gls_c2', u'gls_c3m', u'gls_c3p', u'gls_sigk', u'gls_sigp', u'gls_Kmin', u'gls_Pmin', u'Charnok_alpha', u'Zos_hsig_alpha', u'sz_alpha', u'CrgBan_cw', u'wec_alpha', u'Znudg', u'M2nudg', u'M3nudg', u'Tnudg', u'FSobc_in', u'FSobc_out', u'M2obc_in', u'M2obc_out', u'Tobc_in', u'Tobc_out', u'M3obc_in', u'M3obc_out', u'rho0', u'gamma2', u'LuvSrc', u'LwSrc', u'LtracerSrc', u'LsshCLM', u'Lm2CLM', u'Lm3CLM', u'LtracerCLM', u'LnudgeM2CLM', u'LnudgeM3CLM', u'LnudgeTCLM', u'minlayer_thick', u'newlayer_thick', u'bedload_coeff', u'Sd50', u'Srho', u'Csed', u'Wsed', u'Erate', u'tau_ce', u'tau_cd', u'poros', u'spherical', u'xl', u'el', u'Vtransform', u'Vstretching', u'theta_s', u'theta_b', u'Tcline', u'hc', u'Cs_r', u'Cs_w', u'h', u'f', u'pm', u'pn', u'angle', u'mask_rho', u'mask_u', u'mask_v', u'mask_psi', u'wetdry_mask_rho', u'wetdry_mask_u', u'wetdry_mask_v', u'zeta', u'ubar', u'vbar', u'u', u'v', u'w', u'temp', u'salt', u'sand_01', u'sand_02', u'sand_03', u'sand_04', u'sand_05', u'sand_06', u'rho', u'AKv', u'AKt', u'AKs', u'Uwind', u'Vwind', u'shflux', u'ssflux', u'latent', u'sensible', u'lwrad', u'evaporation', u'rain', u'swrad', u'sustr', u'svstr', u'uWave', u'vWave', u'bustrc', u'bvstrc', u'bustrw', u'bvstrw', u'bstrcwmax', u'bedload_Usand_01', u'bedload_Vsand_01', u'bedload_Usand_02', u'bedload_Vsand_02', u'bedload_Usand_03', u'bedload_Vsand_03', u'bedload_Usand_04', u'bedload_Vsand_04', u'bedload_Usand_05', u'bedload_Vsand_05', u'bedload_Usand_06', u'bedload_Vsand_06', u'sandfrac_01', u'sandfrac_02', u'sandfrac_03', u'sandfrac_04', u'sandfrac_05', u'sandfrac_06', u'sandmass_01', u'sandmass_02', u'sandmass_03', u'sandmass_04', u'sandmass_05', u'sandmass_06', u'bed_thickness', u'bed_age', u'bed_porosity', u'grain_diameter', u'grain_density', u'settling_vel', u'erosion_stress', u'ripple_length', u'ripple_height', u'bed_wave_amp', u'Zo_def', u'Zo_app', u'active_layer_thickness', u'bed_inund_depth', u'dep_net', u'Hwave', u'Lwave', u'Dwave', u'Pwave_top', u'Pwave_bot', u'Uwave_rms', u'grid', u'time_offset', u's_rho', u's_w', u'lon_rho', u'lat_rho', u'lon_u', u'lat_u', u'lon_v', u'lat_v', u'lon_psi', u'lat_psi', u'ocean_time', u'Nbed', u'time', u'time_run']\n"
     ]
    }
   ],
   "source": [
    "# get the variables\n",
    "variables = sg.variables\n",
    "print(variables)"
   ]
  },
  {
   "cell_type": "code",
   "execution_count": 5,
   "metadata": {
    "collapsed": false
   },
   "outputs": [
    {
     "name": "stdout",
     "output_type": "stream",
     "text": [
      "[u'zeta', u'ubar', u'vbar', u'u', u'v']\n"
     ]
    }
   ],
   "source": [
    "# get the variables defined on the grid\n",
    "grid_variables = sg.grid_variables\n",
    "print(grid_variables)"
   ]
  },
  {
   "cell_type": "code",
   "execution_count": 6,
   "metadata": {
    "collapsed": false
   },
   "outputs": [
    {
     "name": "stdout",
     "output_type": "stream",
     "text": [
      "(u'lon_rho', u'lat_rho')\n"
     ]
    }
   ],
   "source": [
    "# get face coordinates\n",
    "face_coord = sg.face_coordinates\n",
    "print(face_coord)"
   ]
  },
  {
   "cell_type": "code",
   "execution_count": 7,
   "metadata": {
    "collapsed": false
   },
   "outputs": [
    {
     "name": "stdout",
     "output_type": "stream",
     "text": [
      "[[[ -93.51105439   11.88846735]\n",
      "  [ -93.46607342   11.90917952]\n",
      "  [ -93.42109245   11.92989169]\n",
      "  ..., \n",
      "  [ -53.34304631   30.38443386]\n",
      "  [ -53.29806533   30.40514603]\n",
      "  [ -53.25308436   30.4258582 ]]\n",
      "\n",
      " [[ -93.53564794   11.94473442]\n",
      "  [ -93.49066489   11.96544388]\n",
      "  [ -93.44568184   11.98615335]\n",
      "  ..., \n",
      "  [ -53.36578088   30.43828425]\n",
      "  [ -53.32079782   30.45899372]\n",
      "  [ -53.27581477   30.47970318]]\n",
      "\n",
      " [[ -93.5602415    12.00100149]\n",
      "  [ -93.51525636   12.02170825]\n",
      "  [ -93.47027123   12.042415  ]\n",
      "  ..., \n",
      "  [ -53.38851544   30.49213464]\n",
      "  [ -53.34353031   30.5128414 ]\n",
      "  [ -53.29854517   30.53354816]]\n",
      "\n",
      " ..., \n",
      " [[-101.70070766   30.62540135]\n",
      "  [-101.65503347   30.64521234]\n",
      "  [-101.60935928   30.66502333]\n",
      "  ..., \n",
      "  [ -60.91365773   48.31661346]\n",
      "  [ -60.86798354   48.33642445]\n",
      "  [ -60.82230936   48.35623544]]\n",
      "\n",
      " [[-101.72530121   30.68166842]\n",
      "  [-101.67962494   30.7014767 ]\n",
      "  [-101.63394867   30.72128498]\n",
      "  ..., \n",
      "  [ -60.9363923    48.37046385]\n",
      "  [ -60.89071603   48.39027213]\n",
      "  [ -60.84503976   48.41008042]]\n",
      "\n",
      " [[-101.74989477   30.73793549]\n",
      "  [-101.70421642   30.75774106]\n",
      "  [-101.65853806   30.77754664]\n",
      "  ..., \n",
      "  [ -60.95912687   48.42431424]\n",
      "  [ -60.91344852   48.44411982]\n",
      "  [ -60.86777017   48.46392539]]]\n"
     ]
    }
   ],
   "source": [
    "# get the face centers\n",
    "centers = sg.centers\n",
    "print(centers)"
   ]
  },
  {
   "cell_type": "code",
   "execution_count": 8,
   "metadata": {
    "collapsed": false
   },
   "outputs": [
    {
     "name": "stdout",
     "output_type": "stream",
     "text": [
      "(u'lon_psi', u'lat_psi')\n"
     ]
    }
   ],
   "source": [
    "# get the node coordinates\n",
    "node_coord = sg.node_coordinates\n",
    "print(node_coord)"
   ]
  },
  {
   "cell_type": "code",
   "execution_count": 9,
   "metadata": {
    "collapsed": false
   },
   "outputs": [
    {
     "name": "stdout",
     "output_type": "stream",
     "text": [
      "[[[ -93.50086016   11.92695629]\n",
      "  [ -93.45587815   11.94766711]\n",
      "  [ -93.41089613   11.96837793]\n",
      "  ..., \n",
      "  [ -53.3769046    30.40100365]\n",
      "  [ -53.33192258   30.42171447]\n",
      "  [ -53.28694057   30.44242528]]\n",
      "\n",
      " [[ -93.52545267   11.98322201]\n",
      "  [ -93.48046858   12.00393012]\n",
      "  [ -93.43548448   12.02463823]\n",
      "  ..., \n",
      "  [ -53.39964021   30.45485539]\n",
      "  [ -53.35465611   30.4755635 ]\n",
      "  [ -53.30967202   30.49627161]]\n",
      "\n",
      " [[ -93.55004518   12.03948773]\n",
      "  [ -93.50505901   12.06019313]\n",
      "  [ -93.46007283   12.08089853]\n",
      "  ..., \n",
      "  [ -53.42237582   30.50870714]\n",
      "  [ -53.37738964   30.52941254]\n",
      "  [ -53.33240346   30.55011794]]\n",
      "\n",
      " ..., \n",
      " [[-101.66557431   30.60717399]\n",
      "  [-101.61990116   30.62698633]\n",
      "  [-101.57422802   30.64679867]\n",
      "  ..., \n",
      "  [ -60.92512702   48.2797821 ]\n",
      "  [ -60.87945387   48.29959444]\n",
      "  [ -60.83378073   48.31940678]]\n",
      "\n",
      " [[-101.69016682   30.6634397 ]\n",
      "  [-101.64449159   30.68324934]\n",
      "  [-101.59881636   30.70305897]\n",
      "  ..., \n",
      "  [ -60.94786263   48.33363384]\n",
      "  [ -60.9021874    48.35344348]\n",
      "  [ -60.85651217   48.37325311]]\n",
      "\n",
      " [[-101.71475934   30.71970542]\n",
      "  [-101.66908202   30.73951235]\n",
      "  [-101.62340471   30.75931928]\n",
      "  ..., \n",
      "  [ -60.97059824   48.38748558]\n",
      "  [ -60.92492093   48.40729251]\n",
      "  [ -60.87924362   48.42709944]]]\n"
     ]
    }
   ],
   "source": [
    "# get the node location\n",
    "grid_nodes = sg.nodes\n",
    "print(grid_nodes)"
   ]
  },
  {
   "cell_type": "code",
   "execution_count": 10,
   "metadata": {
    "collapsed": false
   },
   "outputs": [
    {
     "name": "stdout",
     "output_type": "stream",
     "text": [
      "[GridPadding(mesh_topology_var=u'grid', dim=u'xi_rho', sub_dim=u'xi_psi', padding=u'both'), GridPadding(mesh_topology_var=u'grid', dim=u'eta_rho', sub_dim=u'eta_psi', padding=u'both')]\n",
      "(u'lon_rho', u'lat_rho')\n"
     ]
    }
   ],
   "source": [
    "# get the face padding\n",
    "face_padding = sg.face_padding\n",
    "print(face_padding)\n",
    "# get the face coordinates\n",
    "face_coord = sg.face_coordinates\n",
    "print(face_coord)"
   ]
  },
  {
   "cell_type": "code",
   "execution_count": 11,
   "metadata": {
    "collapsed": false
   },
   "outputs": [
    {
     "name": "stdout",
     "output_type": "stream",
     "text": [
      "[GridPadding(mesh_topology_var=u'grid', dim=u'eta_u', sub_dim=u'eta_psi', padding=u'both')]\n",
      "(u'lon_u', u'lat_u')\n"
     ]
    }
   ],
   "source": [
    "# get the edge1 padding\n",
    "e1_padding = sg.edge1_padding\n",
    "print(e1_padding)\n",
    "# get edge1 coordinates\n",
    "e1_coord = sg.edge1_coordinates\n",
    "print(e1_coord)"
   ]
  },
  {
   "cell_type": "code",
   "execution_count": 12,
   "metadata": {
    "collapsed": false
   },
   "outputs": [
    {
     "name": "stdout",
     "output_type": "stream",
     "text": [
      "[GridPadding(mesh_topology_var=u'grid', dim=u'xi_v', sub_dim=u'xi_psi', padding=u'both')]\n",
      "(u'lon_v', u'lat_v')\n"
     ]
    }
   ],
   "source": [
    "# get the edge2 padding\n",
    "e2_padding = sg.edge2_padding\n",
    "print(e2_padding)\n",
    "# get the edge2 coordinates\n",
    "e2_coord = sg.edge2_coordinates\n",
    "print(e2_coord)"
   ]
  },
  {
   "cell_type": "code",
   "execution_count": 13,
   "metadata": {
    "collapsed": false
   },
   "outputs": [
    {
     "name": "stdout",
     "output_type": "stream",
     "text": [
      "2\n"
     ]
    }
   ],
   "source": [
    "# get the topology dimension\n",
    "topology_dim = sg.topology_dimension\n",
    "print(topology_dim)"
   ]
  },
  {
   "cell_type": "code",
   "execution_count": 14,
   "metadata": {
    "collapsed": false
   },
   "outputs": [
    {
     "name": "stdout",
     "output_type": "stream",
     "text": [
      "(slice(1, -1, None), slice(1, -1, None))\n",
      "(slice(1, -1, None), slice(1, -1, None))\n"
     ]
    }
   ],
   "source": [
    "# get the lat/lon slicing\n",
    "lon_slicing = sg.lon_rho.center_slicing\n",
    "lat_slicing = sg.lat_rho.center_slicing\n",
    "print(lon_slicing)\n",
    "print(lat_slicing)"
   ]
  },
  {
   "cell_type": "code",
   "execution_count": 15,
   "metadata": {
    "collapsed": false
   },
   "outputs": [
    {
     "name": "stdout",
     "output_type": "stream",
     "text": [
      "(u'time', u's_rho', u'eta_u', u'xi_u')\n",
      "(slice(None, None, None), slice(None, None, None), slice(1, -1, None), slice(None, None, None))\n"
     ]
    }
   ],
   "source": [
    "# get the dimensions of the U variable\n",
    "u_dims = sg.u.dimensions\n",
    "print(u_dims)\n",
    "# determine how to slice the U variable based on padding for averging to the face center\n",
    "u_slicing = sg.u.center_slicing\n",
    "print(u_slicing)"
   ]
  },
  {
   "cell_type": "code",
   "execution_count": 16,
   "metadata": {
    "collapsed": false
   },
   "outputs": [
    {
     "name": "stdout",
     "output_type": "stream",
     "text": [
      "(u'time', u's_rho', u'eta_v', u'xi_v')\n",
      "(slice(None, None, None), slice(None, None, None), slice(None, None, None), slice(1, -1, None))\n"
     ]
    }
   ],
   "source": [
    "# get the dimensions of the V variable\n",
    "v_dims = sg.v.dimensions\n",
    "print(v_dims)\n",
    "# determine how to slice the V variable based on padding for averging to the face center\n",
    "v_slicing = sg.v.center_slicing\n",
    "print(v_slicing)"
   ]
  },
  {
   "cell_type": "code",
   "execution_count": 17,
   "metadata": {
    "collapsed": false
   },
   "outputs": [],
   "source": [
    "time_index = -1\n",
    "vertical_index = -1\n",
    "u_data = ds.variables['u'][time_index, vertical_index, u_slicing[2], u_slicing[3]]\n",
    "v_data = ds.variables['v'][time_index, vertical_index, v_slicing[2], v_slicing[3]]"
   ]
  },
  {
   "cell_type": "code",
   "execution_count": 18,
   "metadata": {
    "collapsed": false
   },
   "outputs": [
    {
     "name": "stdout",
     "output_type": "stream",
     "text": [
      "(334, 894)\n",
      "(334, 894)\n"
     ]
    }
   ],
   "source": [
    "# average U values to grid cell center\n",
    "u_avg = avg_to_cell_center(u_data, 1)\n",
    "print(u_avg.shape)\n",
    "# average V values to grid cell center\n",
    "v_avg = avg_to_cell_center(v_data, 0)\n",
    "print(v_avg.shape)"
   ]
  },
  {
   "cell_type": "code",
   "execution_count": 19,
   "metadata": {
    "collapsed": false
   },
   "outputs": [
    {
     "name": "stdout",
     "output_type": "stream",
     "text": [
      "(slice(1, -1, None), slice(1, -1, None))\n",
      "(334, 894)\n"
     ]
    }
   ],
   "source": [
    "# per padding, figure out how to slice the angles to average values to the cell center\n",
    "angle_slicing = sg.angle.center_slicing\n",
    "print(angle_slicing)\n",
    "angles = ds.variables['angle'][angle_slicing]\n",
    "print(angles.shape)"
   ]
  },
  {
   "cell_type": "code",
   "execution_count": 20,
   "metadata": {
    "collapsed": false
   },
   "outputs": [],
   "source": [
    "# rotate U and V vectors\n",
    "u_rot, v_rot = rotate_vectors(u_avg, v_avg, angles)"
   ]
  },
  {
   "cell_type": "code",
   "execution_count": 21,
   "metadata": {
    "collapsed": false
   },
   "outputs": [
    {
     "name": "stdout",
     "output_type": "stream",
     "text": [
      "[[        nan         nan         nan ...,  0.23579427  0.24256019\n",
      "   0.26195025]\n",
      " [        nan         nan         nan ...,  0.23769571  0.25012572\n",
      "   0.26779804]\n",
      " [        nan         nan         nan ...,  0.22833189  0.2458352\n",
      "   0.26279449]\n",
      " ..., \n",
      " [        nan         nan         nan ...,         nan         nan\n",
      "          nan]\n",
      " [        nan         nan         nan ...,         nan         nan\n",
      "          nan]\n",
      " [        nan         nan         nan ...,         nan         nan\n",
      "          nan]]\n",
      "(334, 894)\n"
     ]
    }
   ],
   "source": [
    "# U, V vector sum\n",
    "uv_sum = vector_sum(u_rot, v_rot)\n",
    "print(uv_sum)\n",
    "print(uv_sum.shape)"
   ]
  },
  {
   "cell_type": "code",
   "execution_count": 22,
   "metadata": {
    "collapsed": false
   },
   "outputs": [],
   "source": [
    "# save the sgrid topology\n",
    "sg.save_as_netcdf(r'C:\\Users\\ayan\\Desktop\\tmp\\saved_sgrid.nc')"
   ]
  },
  {
   "cell_type": "code",
   "execution_count": null,
   "metadata": {
    "collapsed": true
   },
   "outputs": [],
   "source": []
  }
 ],
 "metadata": {
  "kernelspec": {
   "display_name": "Python 2",
   "language": "python",
   "name": "python2"
  },
  "language_info": {
   "codemirror_mode": {
    "name": "ipython",
    "version": 2
   },
   "file_extension": ".py",
   "mimetype": "text/x-python",
   "name": "python",
   "nbconvert_exporter": "python",
   "pygments_lexer": "ipython2",
   "version": "2.7.9"
  }
 },
 "nbformat": 4,
 "nbformat_minor": 0
}
