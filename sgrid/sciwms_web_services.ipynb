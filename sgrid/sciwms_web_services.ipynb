{
 "cells": [
  {
   "cell_type": "code",
   "execution_count": 1,
   "metadata": {
    "collapsed": true
   },
   "outputs": [],
   "source": [
    "import json\n",
    "import requests"
   ]
  },
  {
   "cell_type": "code",
   "execution_count": 2,
   "metadata": {
    "collapsed": true
   },
   "outputs": [],
   "source": [
    "DS_URL = 'http://sci-wms.whoi.edu/rest/datasets'"
   ]
  },
  {
   "cell_type": "code",
   "execution_count": 3,
   "metadata": {
    "collapsed": false
   },
   "outputs": [],
   "source": [
    "get_resp = requests.get(DS_URL)"
   ]
  },
  {
   "cell_type": "code",
   "execution_count": 6,
   "metadata": {
    "collapsed": true
   },
   "outputs": [],
   "source": [
    "PAYLOAD = {'uri': 'http://geoport.whoi.edu/thredds/dodsC/coawst_4/use/fmrc/coawst_4_use_best.ncd',\n",
    "           'name': 'coawst',\n",
    "           'title': 'coawst dataset',\n",
    "           'abstract': 'some abstract',\n",
    "           'keep_up_to_date': False,\n",
    "           'type': 'sgrid'\n",
    "           }\n",
    "payload = json.dumps(PAYLOAD)"
   ]
  },
  {
   "cell_type": "code",
   "execution_count": 8,
   "metadata": {
    "collapsed": false
   },
   "outputs": [],
   "source": [
    "AUTH = ('insert_username_here', 'insert_password_here')\n",
    "post_resp = requests.post(DS_URL, data=payload, headers={'Content-Type': 'application/json'}, auth=AUTH)"
   ]
  },
  {
   "cell_type": "code",
   "execution_count": 11,
   "metadata": {
    "collapsed": false
   },
   "outputs": [
    {
     "data": {
      "text/plain": [
       "201"
      ]
     },
     "execution_count": 11,
     "metadata": {},
     "output_type": "execute_result"
    }
   ],
   "source": [
    "post_resp.status_code"
   ]
  },
  {
   "cell_type": "code",
   "execution_count": 16,
   "metadata": {
    "collapsed": true
   },
   "outputs": [],
   "source": [
    "pk = None  # I have no idea how to get this without going into the database.\n",
    "lyr_url = 'http://sci-wms.whoi.edu/rest/layers/{pk}/'.format(pk=pk)\n",
    "all_get_lyrs = requests.get(lyr_url)"
   ]
  },
  {
   "cell_type": "code",
   "execution_count": 19,
   "metadata": {
    "collapsed": true
   },
   "outputs": [],
   "source": [
    "salinity = {'var_name': 'salt',\n",
    "            'std_name': 'sea_water_salinity',\n",
    "            'description': 'salinity',\n",
    "            'active': True,\n",
    "            'styles': [],\n",
    "            'default_min': 31,\n",
    "            'default_max': 33\n",
    "            }"
   ]
  },
  {
   "cell_type": "code",
   "execution_count": 22,
   "metadata": {
    "collapsed": true
   },
   "outputs": [],
   "source": [
    "PAYLOAD_3 = {'uri': 'http://geoport.whoi.edu/thredds/dodsC/coawst_4/use/fmrc/coawst_4_use_best.ncd',\n",
    "             'name': 'coawst_3',\n",
    "             'title': 'coawst dataset',\n",
    "             'abstract': 'some abstract',\n",
    "             'keep_up_to_date': False,\n",
    "             'type': 'sgrid',\n",
    "             'layer_set': [salinity]\n",
    "             }\n"
   ]
  },
  {
   "cell_type": "code",
   "execution_count": 23,
   "metadata": {
    "collapsed": true
   },
   "outputs": [],
   "source": [
    "payload_3_json = json.dumps(PAYLOAD_3)\n",
    "payload_3_post = requests.post(DS_URL,\n",
    "                               data=payload_3_json,\n",
    "                               headers={'Content-Type': 'application/json'}, \n",
    "                               auth=AUTH\n",
    "                              )"
   ]
  },
  {
   "cell_type": "code",
   "execution_count": null,
   "metadata": {
    "collapsed": true
   },
   "outputs": [],
   "source": []
  }
 ],
 "metadata": {
  "kernelspec": {
   "display_name": "Python 2",
   "language": "python",
   "name": "python2"
  },
  "language_info": {
   "codemirror_mode": {
    "name": "ipython",
    "version": 2
   },
   "file_extension": ".py",
   "mimetype": "text/x-python",
   "name": "python",
   "nbconvert_exporter": "python",
   "pygments_lexer": "ipython2",
   "version": "2.7.9"
  }
 },
 "nbformat": 4,
 "nbformat_minor": 0
}
