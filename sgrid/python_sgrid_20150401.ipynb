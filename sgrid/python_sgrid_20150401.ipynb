{
 "cells": [
  {
   "cell_type": "code",
   "execution_count": 1,
   "metadata": {
    "collapsed": true
   },
   "outputs": [],
   "source": [
    "import os\n",
    "import netCDF4 as nc4\n",
    "import numpy as np\n",
    "import matplotlib.pyplot as plt\n",
    "from pysgrid.sgrid import SGrid"
   ]
  },
  {
   "cell_type": "code",
   "execution_count": 2,
   "metadata": {
    "collapsed": true
   },
   "outputs": [],
   "source": [
    "SGRID_URL = 'http://geoport.whoi.edu/thredds/dodsC/coawst_4/use/fmrc/coawst_4_use_best.ncd'\n",
    "TIME_SLICE = -1\n",
    "VERTICAL_SLICE = -1\n",
    "SUB = 3\n",
    "SCALE = 3"
   ]
  },
  {
   "cell_type": "code",
   "execution_count": 3,
   "metadata": {
    "collapsed": true
   },
   "outputs": [],
   "source": [
    "os.environ['TCL_LIBRARY'] = 'C:/Python279/tcl/tcl8.5'\n",
    "os.environ['TK_LIBRARY'] = 'C:/Python279/tcl/tk8.5'"
   ]
  },
  {
   "cell_type": "code",
   "execution_count": 4,
   "metadata": {
    "collapsed": false
   },
   "outputs": [],
   "source": [
    "%matplotlib inline"
   ]
  },
  {
   "cell_type": "code",
   "execution_count": 5,
   "metadata": {
    "collapsed": true
   },
   "outputs": [],
   "source": [
    "def determine_avg_axis(array_shape, dim_0_max, dim_1_max):\n",
    "    try:\n",
    "        avg_axis = array_shape.index(dim_0_max)\n",
    "    except ValueError:\n",
    "        avg_axis = array_shape.index(dim_1_max)\n",
    "    return avg_axis"
   ]
  },
  {
   "cell_type": "code",
   "execution_count": 6,
   "metadata": {
    "collapsed": true
   },
   "outputs": [],
   "source": [
    "def avg_to_cell_center(data_array, avg_dim):\n",
    "    if avg_dim == 0:\n",
    "        da = np.transpose(data_array)\n",
    "    else:\n",
    "        da = data_array\n",
    "    da_trim_low = da[:, 1:]\n",
    "    da_trim_high = da[:, :-1]\n",
    "    da_avg_raw = 0.5 * (da_trim_low + da_trim_high)\n",
    "    if avg_dim == 0:\n",
    "        da_avg = np.transpose(da_avg_raw)\n",
    "    else:\n",
    "        da_avg = da_avg_raw\n",
    "    return da_avg"
   ]
  },
  {
   "cell_type": "code",
   "execution_count": 7,
   "metadata": {
    "collapsed": true
   },
   "outputs": [],
   "source": [
    "def rotate_vectors(x_arr, y_arr, angle_arr):\n",
    "    x_rot = x_arr*np.cos(angle_arr) - y_arr*np.sin(angle_arr)\n",
    "    y_rot = x_arr*np.sin(angle_arr) + y_arr*np.cos(angle_arr)\n",
    "    return x_rot, y_rot"
   ]
  },
  {
   "cell_type": "code",
   "execution_count": 8,
   "metadata": {
    "collapsed": true
   },
   "outputs": [],
   "source": [
    "def vector_sum(x_arr, y_arr):\n",
    "    vector_sum = np.sqrt(x_arr**2 + y_arr**2)\n",
    "    return vector_sum"
   ]
  },
  {
   "cell_type": "code",
   "execution_count": 14,
   "metadata": {
    "collapsed": true
   },
   "outputs": [],
   "source": [
    "def display_shape(var_array, display_text):\n",
    "    array_shape = var_array.shape\n",
    "    message = '{display_text} shape: {shape}'.format(display_text=display_text,\n",
    "                                                     shape=array_shape\n",
    "                                                     )\n",
    "    print(message)"
   ]
  },
  {
   "cell_type": "code",
   "execution_count": 15,
   "metadata": {
    "collapsed": false
   },
   "outputs": [
    {
     "name": "stdout",
     "output_type": "stream",
     "text": [
      "u raw shape: (334, 895)\n",
      "v raw shape: (335, 894)\n",
      "angle shape: (336, 896)\n",
      "rho mask shape: (336, 896)\n",
      "[GridPadding(mesh_topology_var=u'grid', face_dim=u'xi_rho', node_dim=u'xi_psi', padding=u'both'), GridPadding(mesh_topology_var=u'grid', face_dim=u'eta_rho', node_dim=u'eta_psi', padding=u'both')]\n",
      "[GridPadding(mesh_topology_var=u'grid', face_dim=u'eta_u', node_dim=u'eta_psi', padding=u'both')]\n",
      "[GridPadding(mesh_topology_var=u'grid', face_dim=u'xi_v', node_dim=u'xi_psi', padding=u'both')]\n",
      "[GridPadding(mesh_topology_var=u'grid', face_dim=u's_rho', node_dim=u's_w', padding=u'none')]\n",
      "u trim shape: (334, 895)\n",
      "v trim shape: (335, 894)\n",
      "angle trim shape: (334, 894)\n",
      "rho mask trim shape: (334, 894)\n",
      "u avg dim: 1\n",
      "v avg dim: 0\n",
      "u avg shape: (334, 894)\n",
      "v avg shape: (334, 894)\n",
      "uv vector sum shape: (334, 894)\n"
     ]
    },
    {
     "data": {
      "image/png": "[encoded data removed]",
      "text/plain": [
       "<matplotlib.figure.Figure at 0x133428b0>"
      ]
     },
     "metadata": {},
     "output_type": "display_data"
    }
   ],
   "source": [
    "coawst = nc4.Dataset(SGRID_URL)\n",
    "sgc = SGrid().from_nc_dataset(coawst)\n",
    "grid_center_lon = sgc.grid_cell_center_lon\n",
    "# print(grid_center_lon)\n",
    "grid_center_lat = sgc.grid_cell_center_lat\n",
    "u_slice = sgc.u_slice[2:]\n",
    "u_slice = np.s_[TIME_SLICE, VERTICAL_SLICE] + u_slice\n",
    "u_raw = coawst.variables['u'][u_slice]\n",
    "display_shape(u_raw, 'u raw')\n",
    "v_slice = sgc.v_slice[2:]\n",
    "v_slice = np.s_[TIME_SLICE, VERTICAL_SLICE] + v_slice\n",
    "v_raw = coawst.variables['v'][v_slice]\n",
    "display_shape(v_raw, 'v raw')\n",
    "angle = coawst.variables['angle'][:]\n",
    "display_shape(angle, 'angle')\n",
    "rho_mask = coawst.variables['mask_rho'][:]\n",
    "display_shape(rho_mask, 'rho mask')\n",
    "# print(rho_mask)\n",
    "face_padding = sgc.face_padding\n",
    "print(face_padding)\n",
    "print(sgc.edge_1_padding)\n",
    "print(sgc.edge_2_padding)\n",
    "print(sgc.vertical_padding)\n",
    "u_trim = u_raw\n",
    "v_trim = v_raw\n",
    "display_shape(u_trim, 'u trim')\n",
    "display_shape(v_trim, 'v trim')\n",
    "#angle_trim = angle[1:-1, 1:-1]  # rows and columns\n",
    "angle_trim = angle[sgc.angle_slice]\n",
    "rho_mask_trim = rho_mask[sgc.mask_rho_slice]\n",
    "display_shape(angle_trim, 'angle trim')\n",
    "display_shape(rho_mask_trim, 'rho mask trim')\n",
    "u_trim_shape = u_trim.shape\n",
    "v_trim_shape = v_trim.shape\n",
    "uv_dim_0 = (u_trim_shape[0], v_trim_shape[0])\n",
    "uv_dim_1 = (u_trim_shape[1], v_trim_shape[1])\n",
    "dim_0_max = max(uv_dim_0)\n",
    "dim_1_max = max(uv_dim_1)\n",
    "u_avg_dim = determine_avg_axis(u_trim_shape, dim_0_max, dim_1_max)\n",
    "v_avg_dim = determine_avg_axis(v_trim_shape, dim_0_max, dim_1_max)\n",
    "print('u avg dim: {0}'.format(u_avg_dim))\n",
    "print('v avg dim: {0}'.format(v_avg_dim))\n",
    "u_avg = avg_to_cell_center(u_trim, u_avg_dim)  # y\n",
    "v_avg = avg_to_cell_center(v_trim, v_avg_dim)  # x\n",
    "display_shape(u_avg, 'u avg')\n",
    "display_shape(v_avg, 'v avg')\n",
    "v_rot, u_rot = rotate_vectors(v_avg, u_avg, angle_trim)\n",
    "lon_rho = coawst.variables['lon_rho'][sgc.lon_rho_slice]\n",
    "lat_rho = coawst.variables['lat_rho'][sgc.lat_rho_slice]\n",
    "uv_sum = vector_sum(v_rot, u_rot)\n",
    "# print(uv_sum)\n",
    "display_shape(uv_sum, 'uv vector sum')\n",
    "fig = plt.figure(figsize=(12, 12))\n",
    "plt.subplot(111, aspect=(1.0/np.cos(np.mean(lat_rho)*np.pi/180.0)))\n",
    "plt.pcolormesh(lon_rho, lat_rho, uv_sum)\n",
    "q = plt.quiver(lon_rho[::SUB, ::SUB], lat_rho[::SUB, ::SUB], v_rot[::SUB, ::SUB], u_rot[::SUB, ::SUB], \n",
    "               scale=1.0/SCALE, pivot='middle', zorder=1e35, width=0.003)\n",
    "plt.quiverkey(q, 0.85, 0.07, 1.0, label=r'1 m s$^{-1}$', coordinates='figure')\n",
    "plt.show()"
   ]
  },
  {
   "cell_type": "code",
   "execution_count": null,
   "metadata": {
    "collapsed": true
   },
   "outputs": [],
   "source": []
  }
 ],
 "metadata": {
  "kernelspec": {
   "display_name": "Python 2",
   "language": "python",
   "name": "python2"
  },
  "language_info": {
   "codemirror_mode": {
    "name": "ipython",
    "version": 2
   },
   "file_extension": ".py",
   "mimetype": "text/x-python",
   "name": "python",
   "nbconvert_exporter": "python",
   "pygments_lexer": "ipython2",
   "version": "2.7.9"
  }
 },
 "nbformat": 4,
 "nbformat_minor": 0
}
